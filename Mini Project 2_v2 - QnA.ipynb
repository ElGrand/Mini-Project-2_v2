{
 "cells": [
  {
   "cell_type": "code",
   "execution_count": 1,
   "id": "778940d1",
   "metadata": {},
   "outputs": [],
   "source": [
    "import numpy as np\n",
    "import pandas as pd\n",
    "import ctypes\n",
    "import math\n",
    "import pprint"
   ]
  },
  {
   "cell_type": "code",
   "execution_count": 2,
   "id": "eae5ccef",
   "metadata": {},
   "outputs": [],
   "source": [
    "import cosimfunc\n",
    "from cosimfunc import cosim"
   ]
  },
  {
   "cell_type": "code",
   "execution_count": 3,
   "id": "19b1159e",
   "metadata": {},
   "outputs": [
    {
     "data": {
      "text/plain": [
       "<module 'cosimfunc' from 'C:\\\\Users\\\\Andre\\\\Documents\\\\CPH Business 4\\\\BI\\\\Exercises 2023\\\\cosimfunc.py'>"
      ]
     },
     "execution_count": 3,
     "metadata": {},
     "output_type": "execute_result"
    }
   ],
   "source": [
    "import importlib \n",
    "importlib.reload(cosimfunc)"
   ]
  },
  {
   "cell_type": "code",
   "execution_count": 57,
   "id": "43a026ba",
   "metadata": {},
   "outputs": [],
   "source": [
    "# enter two question sentences and two answers\n",
    "docQ1 = \"where does fish live?\"\n",
    "docQ2 = \"where does dog live\"\n",
    "\n",
    "answ1 = \"fish survive in water.\"\n",
    "answ2 = \"dog survive on land.\""
   ]
  },
  {
   "cell_type": "code",
   "execution_count": 58,
   "id": "afae5955",
   "metadata": {},
   "outputs": [],
   "source": [
    "# parse the sentences in words\n",
    "sent1 = docQ1.split(\" \")\n",
    "sent2 = docQ2.split(\" \")\n",
    "\n",
    "sent3 = answ1.split(\" \")\n",
    "sent4 = answ2.split(\" \")"
   ]
  },
  {
   "cell_type": "code",
   "execution_count": 59,
   "id": "2da94b65",
   "metadata": {},
   "outputs": [
    {
     "name": "stdout",
     "output_type": "stream",
     "text": [
      "['where', 'does', 'fish', 'live?']\n",
      "['where', 'does', 'dog', 'live']\n",
      "['fish', 'survive', 'in', 'water.']\n",
      "['dog', 'survive', 'on', 'land.']\n"
     ]
    }
   ],
   "source": [
    "print(sent1)\n",
    "print(sent2)\n",
    "print(sent3)\n",
    "print(sent4)"
   ]
  },
  {
   "cell_type": "code",
   "execution_count": 60,
   "id": "05be46a2",
   "metadata": {},
   "outputs": [
    {
     "name": "stdout",
     "output_type": "stream",
     "text": [
      "{'on', 'fish', 'does', 'land.', 'where', 'live?', 'in', 'live', 'survive', 'dog', 'water.'}\n"
     ]
    }
   ],
   "source": [
    "# All words appearing in all documents\n",
    "# union() removes duplications\n",
    "corpus = set(sent1).union(set(sent2)).union(set(sent3)).union(set(sent4))\n",
    "print(corpus)"
   ]
  },
  {
   "cell_type": "code",
   "execution_count": 61,
   "id": "8fafdfef",
   "metadata": {},
   "outputs": [
    {
     "data": {
      "text/plain": [
       "11"
      ]
     },
     "execution_count": 61,
     "metadata": {},
     "output_type": "execute_result"
    }
   ],
   "source": [
    "# corpus size\n",
    "n = len(corpus)\n",
    "n"
   ]
  },
  {
   "cell_type": "code",
   "execution_count": 62,
   "id": "3f31b30d",
   "metadata": {},
   "outputs": [],
   "source": [
    "# Binary vector of word appearance in a sentence\n",
    "def vect(sent):\n",
    "    # create new dict and place zeros in it\n",
    "    mydict = dict.fromkeys(corpus, 0) \n",
    "    \n",
    "    # code each word's appearance in the sentence with 1\n",
    "    for word in sent:\n",
    "        mydict[word] = 1\n",
    "    return mydict  "
   ]
  },
  {
   "cell_type": "code",
   "execution_count": 63,
   "id": "e05ae317",
   "metadata": {},
   "outputs": [
    {
     "data": {
      "text/plain": [
       "{'on': 0,\n",
       " 'fish': 1,\n",
       " 'does': 1,\n",
       " 'land.': 0,\n",
       " 'where': 1,\n",
       " 'live?': 1,\n",
       " 'in': 0,\n",
       " 'live': 0,\n",
       " 'survive': 0,\n",
       " 'dog': 0,\n",
       " 'water.': 0}"
      ]
     },
     "execution_count": 63,
     "metadata": {},
     "output_type": "execute_result"
    }
   ],
   "source": [
    "# binarise sentence 1\n",
    "dict1 = vect(sent1)\n",
    "dict1"
   ]
  },
  {
   "cell_type": "code",
   "execution_count": 64,
   "id": "352e5806",
   "metadata": {},
   "outputs": [
    {
     "data": {
      "text/plain": [
       "{'on': 0,\n",
       " 'fish': 0,\n",
       " 'does': 1,\n",
       " 'land.': 0,\n",
       " 'where': 1,\n",
       " 'live?': 0,\n",
       " 'in': 0,\n",
       " 'live': 1,\n",
       " 'survive': 0,\n",
       " 'dog': 1,\n",
       " 'water.': 0}"
      ]
     },
     "execution_count": 64,
     "metadata": {},
     "output_type": "execute_result"
    }
   ],
   "source": [
    "dict2 = vect(sent2)\n",
    "dict2"
   ]
  },
  {
   "cell_type": "code",
   "execution_count": 65,
   "id": "0482068e",
   "metadata": {},
   "outputs": [
    {
     "data": {
      "text/plain": [
       "{'on': 0,\n",
       " 'fish': 1,\n",
       " 'does': 0,\n",
       " 'land.': 0,\n",
       " 'where': 0,\n",
       " 'live?': 0,\n",
       " 'in': 1,\n",
       " 'live': 0,\n",
       " 'survive': 1,\n",
       " 'dog': 0,\n",
       " 'water.': 1}"
      ]
     },
     "execution_count": 65,
     "metadata": {},
     "output_type": "execute_result"
    }
   ],
   "source": [
    "dict3 = vect(sent3)\n",
    "dict3"
   ]
  },
  {
   "cell_type": "code",
   "execution_count": 66,
   "id": "d10d3366",
   "metadata": {},
   "outputs": [
    {
     "data": {
      "text/plain": [
       "{'on': 1,\n",
       " 'fish': 0,\n",
       " 'does': 0,\n",
       " 'land.': 1,\n",
       " 'where': 0,\n",
       " 'live?': 0,\n",
       " 'in': 0,\n",
       " 'live': 0,\n",
       " 'survive': 1,\n",
       " 'dog': 1,\n",
       " 'water.': 0}"
      ]
     },
     "execution_count": 66,
     "metadata": {},
     "output_type": "execute_result"
    }
   ],
   "source": [
    "dict4 = vect(sent4)\n",
    "dict4"
   ]
  },
  {
   "cell_type": "code",
   "execution_count": 67,
   "id": "555c7eb8",
   "metadata": {},
   "outputs": [
    {
     "data": {
      "text/html": [
       "<div>\n",
       "<style scoped>\n",
       "    .dataframe tbody tr th:only-of-type {\n",
       "        vertical-align: middle;\n",
       "    }\n",
       "\n",
       "    .dataframe tbody tr th {\n",
       "        vertical-align: top;\n",
       "    }\n",
       "\n",
       "    .dataframe thead th {\n",
       "        text-align: right;\n",
       "    }\n",
       "</style>\n",
       "<table border=\"1\" class=\"dataframe\">\n",
       "  <thead>\n",
       "    <tr style=\"text-align: right;\">\n",
       "      <th></th>\n",
       "      <th>on</th>\n",
       "      <th>fish</th>\n",
       "      <th>does</th>\n",
       "      <th>land.</th>\n",
       "      <th>where</th>\n",
       "      <th>live?</th>\n",
       "      <th>in</th>\n",
       "      <th>live</th>\n",
       "      <th>survive</th>\n",
       "      <th>dog</th>\n",
       "      <th>water.</th>\n",
       "    </tr>\n",
       "  </thead>\n",
       "  <tbody>\n",
       "    <tr>\n",
       "      <th>0</th>\n",
       "      <td>0</td>\n",
       "      <td>1</td>\n",
       "      <td>1</td>\n",
       "      <td>0</td>\n",
       "      <td>1</td>\n",
       "      <td>1</td>\n",
       "      <td>0</td>\n",
       "      <td>0</td>\n",
       "      <td>0</td>\n",
       "      <td>0</td>\n",
       "      <td>0</td>\n",
       "    </tr>\n",
       "    <tr>\n",
       "      <th>1</th>\n",
       "      <td>0</td>\n",
       "      <td>0</td>\n",
       "      <td>1</td>\n",
       "      <td>0</td>\n",
       "      <td>1</td>\n",
       "      <td>0</td>\n",
       "      <td>0</td>\n",
       "      <td>1</td>\n",
       "      <td>0</td>\n",
       "      <td>1</td>\n",
       "      <td>0</td>\n",
       "    </tr>\n",
       "    <tr>\n",
       "      <th>2</th>\n",
       "      <td>0</td>\n",
       "      <td>1</td>\n",
       "      <td>0</td>\n",
       "      <td>0</td>\n",
       "      <td>0</td>\n",
       "      <td>0</td>\n",
       "      <td>1</td>\n",
       "      <td>0</td>\n",
       "      <td>1</td>\n",
       "      <td>0</td>\n",
       "      <td>1</td>\n",
       "    </tr>\n",
       "    <tr>\n",
       "      <th>3</th>\n",
       "      <td>1</td>\n",
       "      <td>0</td>\n",
       "      <td>0</td>\n",
       "      <td>1</td>\n",
       "      <td>0</td>\n",
       "      <td>0</td>\n",
       "      <td>0</td>\n",
       "      <td>0</td>\n",
       "      <td>1</td>\n",
       "      <td>1</td>\n",
       "      <td>0</td>\n",
       "    </tr>\n",
       "  </tbody>\n",
       "</table>\n",
       "</div>"
      ],
      "text/plain": [
       "   on  fish  does  land.  where  live?  in  live  survive  dog  water.\n",
       "0   0     1     1      0      1      1   0     0        0    0       0\n",
       "1   0     0     1      0      1      0   0     1        0    1       0\n",
       "2   0     1     0      0      0      0   1     0        1    0       1\n",
       "3   1     0     0      1      0      0   0     0        1    1       0"
      ]
     },
     "execution_count": 67,
     "metadata": {},
     "output_type": "execute_result"
    }
   ],
   "source": [
    "# Store the data into DataFrame\n",
    "df = pd.DataFrame([dict1, dict2, dict3, dict4])\n",
    "df"
   ]
  },
  {
   "cell_type": "code",
   "execution_count": 68,
   "id": "961e4e5d",
   "metadata": {},
   "outputs": [],
   "source": [
    "ar = df.to_numpy() "
   ]
  },
  {
   "cell_type": "code",
   "execution_count": 69,
   "id": "f984674d",
   "metadata": {},
   "outputs": [
    {
     "data": {
      "text/plain": [
       "array([[0, 1, 1, 0, 1, 1, 0, 0, 0, 0, 0],\n",
       "       [0, 0, 1, 0, 1, 0, 0, 1, 0, 1, 0],\n",
       "       [0, 1, 0, 0, 0, 0, 1, 0, 1, 0, 1],\n",
       "       [1, 0, 0, 1, 0, 0, 0, 0, 1, 1, 0]], dtype=int64)"
      ]
     },
     "execution_count": 69,
     "metadata": {},
     "output_type": "execute_result"
    }
   ],
   "source": [
    "ar"
   ]
  },
  {
   "cell_type": "code",
   "execution_count": 76,
   "id": "28e46303",
   "metadata": {},
   "outputs": [
    {
     "name": "stdout",
     "output_type": "stream",
     "text": [
      "Cosine similarity:  0.25\n"
     ]
    },
    {
     "data": {
      "text/plain": [
       "0.25"
      ]
     },
     "execution_count": 76,
     "metadata": {},
     "output_type": "execute_result"
    }
   ],
   "source": [
    "\n",
    "# Test the similarity\n",
    "# Q [0] = \"where does fish live?\"\n",
    "# Q [1] = \"where does dog live\"\n",
    "# A [2] = \"fish survive in water.\"\n",
    "# A [3] = \"dog survive on land.\"\n",
    "cosim(ar[0], ar[2])"
   ]
  },
  {
   "cell_type": "code",
   "execution_count": null,
   "id": "75649c29",
   "metadata": {},
   "outputs": [],
   "source": []
  }
 ],
 "metadata": {
  "kernelspec": {
   "display_name": "Python 3 (ipykernel)",
   "language": "python",
   "name": "python3"
  },
  "language_info": {
   "codemirror_mode": {
    "name": "ipython",
    "version": 3
   },
   "file_extension": ".py",
   "mimetype": "text/x-python",
   "name": "python",
   "nbconvert_exporter": "python",
   "pygments_lexer": "ipython3",
   "version": "3.11.4"
  }
 },
 "nbformat": 4,
 "nbformat_minor": 5
}
